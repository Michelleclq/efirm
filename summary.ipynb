{
 "cells": [
  {
   "cell_type": "code",
   "execution_count": 4,
   "metadata": {
    "collapsed": true
   },
   "outputs": [],
   "source": [
    "import os\n",
    "import datetime\n",
    "import psycopg2\n",
    "import pandas as pd\n",
    "def eachFile(filepath,l=[]):\n",
    "    pathDir=os.listdir(filepath) #返回所有的文件名\n",
    "    for allDir in pathDir:\n",
    "        child = os.path.join(filepath, allDir)\n",
    "        if os.path.isdir(child):\n",
    "            eachFile(child)\n",
    "        elif allDir=='statsSummary.xlsx':\n",
    "            l.append(child)\n",
    "    return l"
   ]
  },
  {
   "cell_type": "code",
   "execution_count": 5,
   "metadata": {},
   "outputs": [],
   "source": [
    "def write_data(file_path):\n",
    "    id= datetime.datetime.fromtimestamp(os.path.getmtime(file_path)).strftime('%Y%m%d%H%M%S')\n",
    "    summary=pd.read_excel(file_path)\n",
    "    summary['id']=id\n",
    "    df=pd.DataFrame(summary)\n",
    "    psql=psycopg2.connect(database='efirm',user='postgres',password='abc123...',host='172.16.0.70',port='5432')\n",
    "    cur=psql.cursor()\n",
    "    for i in range(0,len(df)):\n",
    "        cur.execute(\"insert into result(name,concentration,diagnosis,meanvalue,stddev,cv,id) values(%s,%s,%s,%s,%s,%s,%s)\",(df.iloc[i].tolist()[0],df.iloc[i].tolist()[1],df.iloc[i].tolist()[2],df.iloc[i].tolist()[3],df.iloc[i].tolist()[4],df.iloc[i].tolist()[5],df.iloc[i].tolist()[6]))\n",
    "        psql.commit()\n",
    "    cur.close()\n",
    "    psql.close()"
   ]
  },
  {
   "cell_type": "code",
   "execution_count": 6,
   "metadata": {},
   "outputs": [],
   "source": [
    "filePathC ='C:\\\\Users\\\\liqing.cai\\\\Desktop\\\\data\\\\'\n",
    "for i in eachFile(filePathC):\n",
    "    write_data(i)"
   ]
  },
  {
   "cell_type": "code",
   "execution_count": null,
   "metadata": {},
   "outputs": [],
   "source": [
    ""
   ]
  }
 ],
 "metadata": {
  "kernelspec": {
   "display_name": "Python 2",
   "language": "python",
   "name": "python2"
  },
  "language_info": {
   "codemirror_mode": {
    "name": "ipython",
    "version": 2.0
   },
   "file_extension": ".py",
   "mimetype": "text/x-python",
   "name": "python",
   "nbconvert_exporter": "python",
   "pygments_lexer": "ipython2",
   "version": "2.7.6"
  }
 },
 "nbformat": 4,
 "nbformat_minor": 0
}