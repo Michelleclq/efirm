{
 "cells": [
  {
   "cell_type": "code",
   "execution_count": 1,
   "metadata": {
    "collapsed": true
   },
   "outputs": [],
   "source": [
    "import os\n",
    "def eachFile(filepath,l=[]):\n",
    "    pathDir=os.listdir(filepath)\n",
    "    for allDir in pathDir:\n",
    "        child = os.path.join(filepath, allDir)\n",
    "        if os.path.isdir(child):\n",
    "            eachFile(child)\n",
    "        elif allDir=='sop.xlsx':\n",
    "            l.append(child)\n",
    "    return l"
   ]
  },
  {
   "cell_type": "code",
   "execution_count": 2,
   "metadata": {
    "collapsed": true
   },
   "outputs": [],
   "source": [
    "import pandas as pd\n",
    "def chemical_data(filepath):\n",
    "    sop=pd.read_excel(filepath,sheetname='sop',header=None)\n",
    "    df=pd.DataFrame(sop)\n",
    "    chemical_result=pd.DataFrame()\n",
    "    for i in range(0,len(sop)):\n",
    "        d1=df.iloc[i][0]\n",
    "        if d1=='chemical':\n",
    "            chemical=pd.DataFrame(df.iloc[i,1:]).T\n",
    "            chemical_result=chemical_result.append(chemical)\n",
    "            chemical_result=chemical_result.fillna('')\n",
    "    return chemical_result"
   ]
  },
  {
   "cell_type": "code",
   "execution_count": 3,
   "metadata": {
    "collapsed": true
   },
   "outputs": [],
   "source": [
    "def dna_data(filepath):\n",
    "     sop=pd.read_excel(filepath,sheetname='sop',header=None)\n",
    "     df=pd.DataFrame(sop)\n",
    "     dna_result=pd.DataFrame()\n",
    "     for i in range(0,len(sop)):\n",
    "        d1=df.iloc[i][0]\n",
    "        if d1=='dna':\n",
    "            dna=pd.DataFrame(df.iloc[i,1:]).T\n",
    "            dna_result=dna_result.append(dna)\n",
    "            dna_result=dna_result.fillna('')\n",
    "     return dna_result"
   ]
  },
  {
   "cell_type": "code",
   "execution_count": 4,
   "metadata": {
    "collapsed": true
   },
   "outputs": [],
   "source": [
    "def wash_data(filepath):\n",
    "     sop=pd.read_excel(filepath,sheetname='sop',header=None)\n",
    "     df=pd.DataFrame(sop)\n",
    "     wash_result=pd.DataFrame()\n",
    "     for i in range(0,len(sop)):\n",
    "        d1=df.iloc[i][0]\n",
    "        if d1=='wash':\n",
    "            wash=pd.DataFrame(df.iloc[i,1:]).T\n",
    "            wash_result=wash_result.append(wash)\n",
    "            wash_result=wash_result.fillna('')\n",
    "     return wash_result"
   ]
  },
  {
   "cell_type": "code",
   "execution_count": 3,
   "metadata": {
    "collapsed": true
   },
   "outputs": [],
   "source": [
    "def sop_data(filepath):\n",
    "     sop=pd.read_excel(filepath,sheetname='sop',header=None)\n",
    "     df=pd.DataFrame(sop)\n",
    "     sop_result=pd.DataFrame()\n",
    "     for i in range(0,len(sop)):\n",
    "        d1=df.iloc[i][0]\n",
    "        if d1=='Experiment Purpose':\n",
    "            sop_result=sop_result.join(pd.DataFrame(df.iloc[i+1]).T,how='outer')\n",
    "        if d1=='equipment':\n",
    "            t=pd.DataFrame(df.iloc[i,1:]).T\n",
    "            t.index=[1]\n",
    "            sop_result=sop_result.join(t,how='outer',lsuffix='t')\n",
    "        if d1=='method_step':\n",
    "            t=df.iloc[i+1:,1:3]\n",
    "            for a in range(0,len(t)):\n",
    "                a=pd.DataFrame(t.iloc[a]).T\n",
    "                a.index=[1]\n",
    "                sop_result=sop_result.join(a,how='outer',lsuffix='a')\n",
    "        sop_result=sop_result.fillna('')\n",
    "     return sop_result"
   ]
  },
  {
   "cell_type": "code",
   "execution_count": 4,
   "metadata": {
    "collapsed": false,
    "scrolled": true
   },
   "outputs": [],
   "source": [
    "import psycopg2\n",
    "filePathC ='C:\\\\Users\\\\liqing.cai\\\\Desktop\\\\data\\\\'\n",
    "psql=psycopg2.connect(database='efirm',user='postgres',password='abc123...',host='172.16.0.70',port='5432')\n",
    "cur=psql.cursor()\n",
    "l=eachFile(filePathC)\n",
    "for i in l:\n",
    "    c=chemical_data(i)\n",
    "    d=dna_data(i)\n",
    "    w=wash_data(i)\n",
    "    s=sop_data(i)\n",
    "    for y in range(0,len(c)):\n",
    "        cur.execute(\"insert into chemical values(%s,%s,%s,%s)\",(i.split(\"\\\\\")[-2]+'_c_'+str(y),c.iloc[y].tolist()[0],c.iloc[y].tolist()[1],c.iloc[y].tolist()[2]))\n",
    "        psql.commit()\n",
    "    for y in range(0,len(d)):\n",
    "        cur.execute(\"insert into dna values(%s,%s,%s,%s)\",(i.split(\"\\\\\")[-2]+'_d_'+str(y),d.iloc[y].tolist()[0],d.iloc[y].tolist()[1],d.iloc[y].tolist()[2]))\n",
    "        psql.commit()\n",
    "    for y in range(0,len(w)):\n",
    "        cur.execute(\"insert into wash values(%s,%s,%s,%s)\",(i.split(\"\\\\\")[-2]+'_w_'+str(y),w.iloc[y].tolist()[0],w.iloc[y].tolist()[1],w.iloc[y].tolist()[2]))\n",
    "        psql.commit()\n",
    "    for y in range(0,len(s)):\n",
    "        cur.execute(\"insert into sop_result values(s.iloc[y].tolist()[0],s.iloc[y].tolist()[1],s.iloc[y].tolist()[2],s.iloc[y].tolist()[3],s.iloc[y].tolist()[4],s.iloc[y].tolist()[5],s.iloc[y].tolist()[6],s.iloc[y].tolist()[7],s.iloc[y].tolist()[8],s.iloc[y].tolist()[9],s.iloc[y].tolist()[10],s.iloc[y].tolist()[11],s.iloc[y].tolist()[12],s.iloc[y].tolist()[13],s.iloc[y].tolist()[14],s.iloc[y].tolist()[15],s.iloc[y].tolist()[16],s.iloc[y].tolist()[17],s.iloc[y].tolist()[18],s.iloc[y].tolist()[19],s.iloc[y].tolist()[20],s.iloc[y].tolist()[21],s.iloc[y].tolist()[22],s.iloc[y].tolist()[23],s.iloc[y].tolist()[24],s.iloc[y].tolist()[25],s.iloc[y].tolist()[26],s.iloc[y].tolist()[27],s.iloc[y].tolist()[28],s.iloc[y].tolist()[29],s.iloc[y].tolist()[30],s.iloc[y].tolist()[31],s.iloc[y].tolist()[32],s.iloc[y].tolist()[33],s.iloc[y].tolist()[34],s.iloc[y].tolist()[35],s.iloc[y].tolist()[36],s.iloc[y].tolist()[37],s.iloc[y].tolist()[38],s.iloc[y].tolist()[39],s.iloc[y].tolist()[40])\")\n",
    "        psql.commit()\n",
    "cur.close()\n",
    "psql.close()\n",
    "\n"
   ]
  },
  {
   "cell_type": "code",
   "execution_count": null,
   "metadata": {
    "collapsed": true
   },
   "outputs": [],
   "source": []
  }
 ],
 "metadata": {
  "kernelspec": {
   "display_name": "Python 2",
   "language": "python",
   "name": "python2"
  },
  "language_info": {
   "codemirror_mode": {
    "name": "ipython",
    "version": 2
   },
   "file_extension": ".py",
   "mimetype": "text/x-python",
   "name": "python",
   "nbconvert_exporter": "python",
   "pygments_lexer": "ipython2",
   "version": "2.7.13"
  }
 },
 "nbformat": 4,
 "nbformat_minor": 0
}
