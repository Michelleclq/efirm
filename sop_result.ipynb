{
 "cells": [
  {
   "cell_type": "code",
   "execution_count": null,
   "metadata": {
    "collapsed": true
   },
   "outputs": [],
   "source": [
    "import pandas as pd\n",
    "import os\n",
    "import datetime\n",
    "sop=pd.read_excel('C:\\Users\\liqing.cai\\Desktop\\sop.xlsx',sheetname='sop',header=None)\n",
    "id= datetime.datetime.fromtimestamp(os.path.getmtime('C:\\Users\\liqing.cai\\Desktop\\statsSummary.xlsx')).strftime('%Y%m%d%H%M%S')\n",
    "df=pd.DataFrame(sop)\n",
    "sop_len=len(sop)\n",
    "chemical_result=pd.DataFrame(columns=['material_name','description','batch_id'])\n",
    "dna_result=pd.DataFrame(columns=['material_name','description','batch_id'])\n",
    "wash_result=pd.DataFrame(columns=['material_name','description','batch_id'])\n",
    "sop_result=pd.DataFrame()\n",
    "for i in range(0,sop_len):\n",
    "    d1=df.iloc[i][0]\n",
    "    if d1=='chemical':\n",
    "        chemical=pd.DataFrame(df.iloc[i,1:]).T\n",
    "        chemical.columns=['material_name','description','batch_id']\n",
    "        chemical_result=chemical_result.append(chemical)\n",
    "    if d1=='dna':\n",
    "        dna=pd.DataFrame(df.iloc[i,1:]).T\n",
    "        dna.columns=['material_name','description','batch_id']\n",
    "        dna_result=dna_result.append(dna)\n",
    "    if d1=='wash':\n",
    "        wash=pd.DataFrame(df.iloc[i,1:]).T\n",
    "        wash.columns=['material_name','description','batch_id']\n",
    "        wash_result=wash_result.append(wash)\n",
    "    if d1=='Experiment Purpose':\n",
    "        sop_result=sop_result.join(pd.DataFrame(df.iloc[i+1]).T,how='outer')\n",
    "    if d1=='equipment':\n",
    "        t=pd.DataFrame(df.iloc[i,1:]).T\n",
    "        t.index=[1]\n",
    "        sop_result=sop_result.join(t,how='outer',lsuffix='t')\n",
    "    if d1=='method_step':\n",
    "        t=df.iloc[i+1:,1:3]\n",
    "        for a in range(0,len(t)):\n",
    "            a=pd.DataFrame(t.iloc[a]).T\n",
    "            a.index=[1]\n",
    "            sop_result=sop_result.join(a,how='outer',lsuffix='a')\n",
    "sop_result['id']=id"
   ]
  },
  {
   "cell_type": "code",
   "execution_count": null,
   "metadata": {},
   "outputs": [],
   "source": [
    "import psycopg2\n",
    "psql=psycopg2.connect(database='efirm',user='postgres',password='abc123...',host='172.16.0.70',port='5432')\n",
    "cur=psql.cursor()\n",
    "cur.execute(\"select * from sop_result\") #接受sql语句，这里用key值作为标识每条记录的主键\n",
    "id=cur.fetchall()\n",
    "for i in range(0,len(sop_result)):\n",
    "    # print sop_result.iloc[i].tolist()[0]\n",
    "    cur.execute(\"insert into sop_result(purpose,result,date,operator,eplate_id,eplate_description,eplate_batch_id,efirm_id,efirm_description,efirm_batch_id,polymer,polymer_efirm,polymer_wash,sample,sample_efirm,sample_wash,detector,sample_incubation,detector_wash,reporter,reporter_efirm,reporter_wash,readout,readout_efirm,id) values(%s,%s,%s,%s,%s,%s,%s,%s,%s,%s,%s,%s,%s,%s,%s,%s,%s,%s,%s,%s,%s,%s,%s,%s,%s) \",(sop_result.iloc[i].tolist()[0],sop_result.iloc[i].tolist()[1],sop_result.iloc[i].tolist()[2],sop_result.iloc[i].tolist()[3],sop_result.iloc[i].tolist()[4],sop_result.iloc[i].tolist()[5],sop_result.iloc[i].tolist()[6],sop_result.iloc[i].tolist()[7],sop_result.iloc[i].tolist()[8],sop_result.iloc[i].tolist()[9],sop_result.iloc[i].tolist()[10],sop_result.iloc[i].tolist()[11],sop_result.iloc[i].tolist()[12],sop_result.iloc[i].tolist()[13],sop_result.iloc[i].tolist()[14],sop_result.iloc[i].tolist()[15],sop_result.iloc[i].tolist()[16],sop_result.iloc[i].tolist()[17],sop_result.iloc[i].tolist()[18],sop_result.iloc[i].tolist()[19],sop_result.iloc[i].tolist()[20],sop_result.iloc[i].tolist()[21],sop_result.iloc[i].tolist()[22],sop_result.iloc[i].tolist()[23],sop_result.iloc[i].tolist()[24]))\n",
    "    psql.commit()\n",
    "cur.close()\n",
    "psql.close()"
   ]
  }
 ],
 "metadata": {
  "kernelspec": {
   "display_name": "Python 2",
   "language": "python",
   "name": "python2"
  },
  "language_info": {
   "codemirror_mode": {
    "name": "ipython",
    "version": 2.0
   },
   "file_extension": ".py",
   "mimetype": "text/x-python",
   "name": "python",
   "nbconvert_exporter": "python",
   "pygments_lexer": "ipython2",
   "version": "2.7.6"
  }
 },
 "nbformat": 4,
 "nbformat_minor": 0
}