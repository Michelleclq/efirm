{
 "cells": [
  {
   "cell_type": "code",
   "execution_count": 1,
   "metadata": {
    "collapsed": true
   },
   "outputs": [],
   "source": [
    "import os\n",
    "def eachFile(filepath,l=[]):\n",
    "    pathDir=os.listdir(filepath)\n",
    "    for allDir in pathDir:\n",
    "        child = os.path.join(filepath, allDir)\n",
    "        if os.path.isdir(child):\n",
    "            eachFile(child)\n",
    "        elif allDir=='sop.xlsx':\n",
    "            l.append(child)\n",
    "    return l"
   ]
  },
  {
   "cell_type": "code",
   "execution_count": 2,
   "metadata": {
    "collapsed": true
   },
   "outputs": [],
   "source": [
    "import pandas as pd\n",
    "def chemical_data(filepath):\n",
    "    sop=pd.read_excel(filepath,sheetname='sop',header=None)\n",
    "    df=pd.DataFrame(sop)\n",
    "    chemical_result=pd.DataFrame()\n",
    "    for i in range(0,len(sop)):\n",
    "        d1=df.iloc[i][0]\n",
    "        if d1=='chemical':\n",
    "            chemical=pd.DataFrame(df.iloc[i,1:]).T\n",
    "            chemical_result=chemical_result.append(chemical)    \n",
    "    return chemical_result"
   ]
  },
  {
   "cell_type": "code",
   "execution_count": 3,
   "metadata": {
    "collapsed": true
   },
   "outputs": [],
   "source": [
    "def dna_data(filepath):\n",
    "     sop=pd.read_excel(filepath,sheetname='sop',header=None)\n",
    "     df=pd.DataFrame(sop)\n",
    "     dna_result=pd.DataFrame()\n",
    "     for i in range(0,len(sop)):\n",
    "        d1=df.iloc[i][0]\n",
    "        if d1=='dna':\n",
    "            dna=pd.DataFrame(df.iloc[i,1:]).T\n",
    "            dna_result=dna_result.append(dna)\n",
    "     return dna_result"
   ]
  },
  {
   "cell_type": "code",
   "execution_count": 4,
   "metadata": {
    "collapsed": true
   },
   "outputs": [],
   "source": [
    "def wash_data(filepath):\n",
    "     sop=pd.read_excel(filepath,sheetname='sop',header=None)\n",
    "     df=pd.DataFrame(sop)\n",
    "     wash_result=pd.DataFrame()\n",
    "     for i in range(0,len(sop)):\n",
    "        d1=df.iloc[i][0]\n",
    "        if d1=='wash':\n",
    "            wash=pd.DataFrame(df.iloc[i,1:]).T\n",
    "            wash_result=wash_result.append(wash)\n",
    "     return wash_result"
   ]
  },
  {
   "cell_type": "code",
   "execution_count": 5,
   "metadata": {
    "collapsed": true
   },
   "outputs": [],
   "source": [
    "def sop_data(filepath):\n",
    "     sop=pd.read_excel(filepath,sheetname='sop',header=None)\n",
    "     df=pd.DataFrame(sop)\n",
    "     sop_result=pd.DataFrame()\n",
    "     for i in range(0,len(sop)):\n",
    "        d1=df.iloc[i][0]\n",
    "        if d1=='Experiment Purpose':\n",
    "            sop_result=sop_result.join(pd.DataFrame(df.iloc[i+1]).T,how='outer')\n",
    "        if d1=='equipment':\n",
    "            t=pd.DataFrame(df.iloc[i,1:]).T\n",
    "            t.index=[1]\n",
    "            sop_result=sop_result.join(t,how='outer',lsuffix='t')\n",
    "        if d1=='method_step':\n",
    "            t=df.iloc[i+1:,1:3]\n",
    "            for a in range(0,len(t)):\n",
    "                a=pd.DataFrame(t.iloc[a]).T\n",
    "                a.index=[1]\n",
    "                sop_result=sop_result.join(a,how='outer',lsuffix='a')\n",
    "     return sop_result"
   ]
  },
  {
   "cell_type": "code",
   "execution_count": 6,
   "metadata": {},
   "outputs": [
    {
     "ename": "NameError",
     "evalue": "name 'pymssql' is not defined",
     "traceback": [
      "\u001b[1;31m---------------------------------------------------------------------------\u001b[0m",
      "\u001b[1;31mNameError\u001b[0m                                 Traceback (most recent call last)",
      "\u001b[1;32m<ipython-input-6-551585617f55>\u001b[0m in \u001b[0;36m<module>\u001b[1;34m()\u001b[0m\n\u001b[0;32m      4\u001b[0m \u001b[1;32mfor\u001b[0m \u001b[0mi\u001b[0m \u001b[1;32min\u001b[0m \u001b[0ml\u001b[0m\u001b[1;33m:\u001b[0m\u001b[1;33m\u001b[0m\u001b[0m\n\u001b[0;32m      5\u001b[0m    \u001b[0mx\u001b[0m\u001b[1;33m=\u001b[0m\u001b[0mchemical_data\u001b[0m\u001b[1;33m(\u001b[0m\u001b[0mi\u001b[0m\u001b[1;33m)\u001b[0m\u001b[1;33m\u001b[0m\u001b[0m\n\u001b[1;32m----> 6\u001b[1;33m    \u001b[0mconn\u001b[0m\u001b[1;33m=\u001b[0m\u001b[0mpymssql\u001b[0m\u001b[1;33m.\u001b[0m\u001b[0mconnect\u001b[0m\u001b[1;33m(\u001b[0m\u001b[0mhost\u001b[0m\u001b[1;33m=\u001b[0m\u001b[1;34m'localhost'\u001b[0m\u001b[1;33m,\u001b[0m\u001b[0muser\u001b[0m\u001b[1;33m=\u001b[0m\u001b[1;34m'test'\u001b[0m\u001b[1;33m,\u001b[0m\u001b[0mpassword\u001b[0m\u001b[1;33m=\u001b[0m\u001b[1;34m'abc123...'\u001b[0m\u001b[1;33m,\u001b[0m\u001b[0mdatabase\u001b[0m\u001b[1;33m=\u001b[0m\u001b[1;34m't'\u001b[0m\u001b[1;33m,\u001b[0m\u001b[0mcharset\u001b[0m\u001b[1;33m=\u001b[0m\u001b[1;34m'UTF-8'\u001b[0m\u001b[1;33m)\u001b[0m\u001b[1;33m\u001b[0m\u001b[0m\n\u001b[0m\u001b[0;32m      7\u001b[0m    \u001b[0mcur\u001b[0m\u001b[1;33m=\u001b[0m\u001b[0mconn\u001b[0m\u001b[1;33m.\u001b[0m\u001b[0mcursor\u001b[0m\u001b[1;33m(\u001b[0m\u001b[1;33m)\u001b[0m\u001b[1;33m\u001b[0m\u001b[0m\n\u001b[0;32m      8\u001b[0m    \u001b[1;32mfor\u001b[0m \u001b[0mx\u001b[0m \u001b[1;32min\u001b[0m \u001b[0mrange\u001b[0m\u001b[1;33m(\u001b[0m\u001b[1;36m0\u001b[0m\u001b[1;33m,\u001b[0m\u001b[0mlen\u001b[0m\u001b[1;33m(\u001b[0m\u001b[0mi\u001b[0m\u001b[1;33m)\u001b[0m\u001b[1;33m)\u001b[0m\u001b[1;33m:\u001b[0m\u001b[1;33m\u001b[0m\u001b[0m\n",
      "\u001b[1;31mNameError\u001b[0m: name 'pymssql' is not defined"
     ],
     "output_type": "error"
    }
   ],
   "source": [
    "filePathC ='C:\\\\Users\\\\Administrator\\\\Desktop\\\\data\\\\'\n",
    "import pymssql\n",
    "l=eachFile(filePathC)\n",
    "for i in l:\n",
    "   x=chemical_data(i)\n",
    "   conn=pymssql.connect(host='localhost',user='test',password='abc123...',database='t',charset='UTF-8')\n",
    "   cur=conn.cursor()\n",
    "   for x in range(0,len(i)):\n",
    "       cur.execute(\"insert into dna values(i.iloc[x].tolist()[0],i.iloc[x].tolist()[1],i.iloc[x].tolist()[3])\")\n",
    "       conn.commit()\n",
    "   conn.close"
   ]
  }
 ],
 "metadata": {
  "kernelspec": {
   "display_name": "Python 2",
   "language": "python",
   "name": "python2"
  },
  "language_info": {
   "codemirror_mode": {
    "name": "ipython",
    "version": 2.0
   },
   "file_extension": ".py",
   "mimetype": "text/x-python",
   "name": "python",
   "nbconvert_exporter": "python",
   "pygments_lexer": "ipython2",
   "version": "2.7.13"
  }
 },
 "nbformat": 4,
 "nbformat_minor": 0
}